{
 "cells": [
  {
   "cell_type": "code",
   "execution_count": 1,
   "metadata": {},
   "outputs": [],
   "source": [
    "% load_ext autoreload\n",
    "% autoreload 2"
   ]
  },
  {
   "cell_type": "code",
   "execution_count": 4,
   "metadata": {},
   "outputs": [],
   "source": [
    "import torch\n",
    "import utils\n",
    "import vanilla_train\n",
    "import vanilla_seq2seq\n",
    "from nltk.translate import bleu_score\n",
    "import cvae"
   ]
  },
  {
   "cell_type": "code",
   "execution_count": 3,
   "metadata": {},
   "outputs": [],
   "source": [
    "train_iter, val_iter, test, DE, EN = utils.torchtext_extract()"
   ]
  },
  {
   "cell_type": "code",
   "execution_count": 5,
   "metadata": {},
   "outputs": [],
   "source": [
    "model_name = \"load\"\n",
    "\n",
    "model_path = \"vae_lstmprojattn_wt_100/21.pt\"\n",
    "\n",
    "gpu = True\n",
    "\n",
    "num_layers = 2\n",
    "embed_size = 300\n",
    "hidden_size = 300\n",
    "\n",
    "num_epochs=10"
   ]
  },
  {
   "cell_type": "code",
   "execution_count": null,
   "metadata": {},
   "outputs": [],
   "source": [
    "model = torch.load(model_path)\n",
    "\n",
    "print(\"Number of parameters: {}\".format(utils.count_parameters(model)))"
   ]
  },
  {
   "cell_type": "code",
   "execution_count": null,
   "metadata": {},
   "outputs": [],
   "source": [
    "new_model = cvae.CVAE(len(DE.vocab), len(EN.vocab), embed_size, hidden_size, latent_size, num_layers, dpt)\n",
    "if gpu:\n",
    "    new_model.cuda()"
   ]
  },
  {
   "cell_type": "code",
   "execution_count": null,
   "metadata": {},
   "outputs": [],
   "source": [
    "y = utils.generate(model, val_iter, EN, 10, 100, gpu)\n",
    "\n",
    "for s in y:\n",
    "    utils.strip(s)"
   ]
  },
  {
   "cell_type": "code",
   "execution_count": null,
   "metadata": {},
   "outputs": [],
   "source": [
    "index = 0\n",
    "avg_bleu = 0\n",
    "\n",
    "for batch in val_iter:\n",
    "    trg = batch.trg\n",
    "    for i in range(trg.size(1)):\n",
    "            t = []\n",
    "            for word in trg[:, i]:\n",
    "                t += [EN.vocab.itos[word]]\n",
    "            utils.strip(t)\n",
    "            bleu = bleu_score.sentence_bleu([t], y[index], emulate_multibleu=True)\n",
    "            \n",
    "            print(\"TRG: \" + str(t))\n",
    "            print(\"OUT: \" + str(y[index]))\n",
    "            print(\"BLEU: \" + str(bleu))\n",
    "            \n",
    "            avg_bleu += bleu\n",
    "            index += 1\n",
    "\n",
    "print(\"AVG BLEU: \" + str(avg_bleu / index))"
   ]
  },
  {
   "cell_type": "code",
   "execution_count": null,
   "metadata": {},
   "outputs": [],
   "source": []
  }
 ],
 "metadata": {
  "kernelspec": {
   "display_name": "Python 3",
   "language": "python",
   "name": "python3"
  },
  "language_info": {
   "codemirror_mode": {
    "name": "ipython",
    "version": 3
   },
   "file_extension": ".py",
   "mimetype": "text/x-python",
   "name": "python",
   "nbconvert_exporter": "python",
   "pygments_lexer": "ipython3",
   "version": "3.5.2"
  }
 },
 "nbformat": 4,
 "nbformat_minor": 2
}
